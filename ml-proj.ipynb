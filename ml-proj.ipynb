{
 "cells": [
  {
   "cell_type": "code",
   "execution_count": 4,
   "metadata": {},
   "outputs": [],
   "source": [
    "import numpy as np\n",
    "import time\n",
    "import matplotlib\n"
   ]
  },
  {
   "cell_type": "code",
   "execution_count": 2,
   "metadata": {},
   "outputs": [],
   "source": [
    "train_file = \"./data/sign_mnist_train.csv\"\n",
    "test_file = \"./data/sign_mnist_test.csv\"\n",
    "\n",
    "# Load data\n",
    "train_data = np.loadtxt(train_file, delimiter=\",\", skiprows=1)\n",
    "test_data = np.loadtxt(test_file, delimiter=\",\", skiprows=1)\n",
    "\n",
    "# Split data into features and labels\n",
    "y_train = train_data[:, 0]\n",
    "X_train = train_data[:, 1:]\n",
    "y_test = test_data[:, 0]\n",
    "X_test = test_data[:, 1:]\n",
    "\n",
    "# Normalize data\n",
    "X_train = X_train / 255\n",
    "X_test = X_test / 255"
   ]
  },
  {
   "cell_type": "code",
   "execution_count": 3,
   "metadata": {},
   "outputs": [
    {
     "name": "stdout",
     "output_type": "stream",
     "text": [
      "KNN, n = 5\n",
      "Training set score: 0.999\n",
      "Test set score: 0.806\n"
     ]
    }
   ],
   "source": [
    "from sklearn.neighbors import KNeighborsClassifier\n",
    "\n",
    "tic = time.perf_counter()\n",
    "\n",
    "knn_model = KNeighborsClassifier()\n",
    "\n",
    "knn_model.fit(X_train, y_train)\n",
    "\n",
    "# y_knn_pred = knn_model.predict(X_test)\n",
    "\n",
    "print(\"KNN, n = 5\")\n",
    "print(\"Training set score: {:.3f}\".format(knn_model.score(X_train, y_train)))\n",
    "print(\"Test set score: {:.3f}\".format(knn_model.score(X_test, y_test)))\n",
    "\n",
    "toc = time.perf_counter()\n",
    "print(f\"Time taken: {toc-tic:.3f} seconds\")\n"
   ]
  },
  {
   "cell_type": "code",
   "execution_count": 6,
   "metadata": {},
   "outputs": [],
   "source": [
    "from sklearn.linear_model import LogisticRegression\n"
   ]
  },
  {
   "cell_type": "code",
   "execution_count": 7,
   "metadata": {},
   "outputs": [
    {
     "name": "stdout",
     "output_type": "stream",
     "text": [
      "OVR\n",
      "Training set score: 1.000\n",
      "Test set score: 0.660\n",
      "Time taken: 174.511\n"
     ]
    }
   ],
   "source": [
    "\n",
    "tic = time.perf_counter()\n",
    "# Create model\n",
    "ovr_model = LogisticRegression(multi_class=\"ovr\", solver=\"liblinear\", C=10)\n",
    "\n",
    "# Train model\n",
    "ovr_model.fit(X_train, y_train)\n",
    "\n",
    "# Evaluate\n",
    "print(\"OVR\")\n",
    "print(\"Training set score: {:.3f}\".format(ovr_model.score(X_train, y_train)))\n",
    "print(\"Test set score: {:.3f}\".format(ovr_model.score(X_test, y_test)))\n",
    "toc = time.perf_counter()\n",
    "print(f\"Time taken: {toc-tic:.3f} seconds\")\n"
   ]
  },
  {
   "cell_type": "code",
   "execution_count": 8,
   "metadata": {},
   "outputs": [
    {
     "name": "stdout",
     "output_type": "stream",
     "text": [
      "Softmax\n",
      "Training set score: 0.957\n",
      "Test set score: 0.679\n",
      "Time taken: 11.915\n"
     ]
    },
    {
     "name": "stderr",
     "output_type": "stream",
     "text": [
      "/usr/local/lib64/python3.6/site-packages/sklearn/linear_model/logistic.py:947: ConvergenceWarning: lbfgs failed to converge. Increase the number of iterations.\n",
      "  \"of iterations.\", ConvergenceWarning)\n"
     ]
    }
   ],
   "source": [
    "tic = time.perf_counter()\n",
    "softmax_model = LogisticRegression(multi_class=\"multinomial\", solver=\"lbfgs\", C=10)\n",
    "\n",
    "softmax_model.fit(X_train, y_train)\n",
    "\n",
    "print(\"Softmax\")\n",
    "print(\"Training set score: {:.3f}\".format(softmax_model.score(X_train, y_train)))\n",
    "print(\"Test set score: {:.3f}\".format(softmax_model.score(X_test, y_test)))\n",
    "toc = time.perf_counter()\n",
    "print(f\"Time taken: {toc-tic:.3f} seconds\")"
   ]
  },
  {
   "cell_type": "code",
   "execution_count": 9,
   "metadata": {},
   "outputs": [
    {
     "name": "stdout",
     "output_type": "stream",
     "text": [
      "SVM\n",
      "Training set score: 1.000\n",
      "Test set score: 0.786\n",
      "Time taken: 129.154 seconds\n"
     ]
    }
   ],
   "source": [
    "from sklearn import svm\n",
    "\n",
    "tic = time.perf_counter()\n",
    "\n",
    "svm_model = svm.SVC(kernel='linear', C=1.0)\n",
    "\n",
    "svm_model.fit(X_train, y_train)\n",
    "\n",
    "print(\"SVM\")\n",
    "print(\"Training set score: {:.3f}\".format(svm_model.score(X_train, y_train)))\n",
    "print(\"Test set score: {:.3f}\".format(svm_model.score(X_test, y_test)))\n",
    "\n",
    "toc = time.perf_counter()\n",
    "print(f\"Time taken: {toc-tic:.3f} seconds\")"
   ]
  },
  {
   "cell_type": "code",
   "execution_count": null,
   "metadata": {},
   "outputs": [],
   "source": [
    "from sklearn.mixture import GaussianMixture\n",
    "\n",
    "tic = time.perf_counter()\n",
    "\n",
    "gm_model = GaussianMixture(n_components=24)\n",
    "\n",
    "gm_model.fit(X_train, y_train)\n",
    "\n",
    "print(\"GMM\")\n",
    "print(\"Training set score: {:.3f}\".format(gm_model.score(X_train, y_train)))\n",
    "print(\"Test set score: {:.3f}\".format(gm_model.score(X_test, y_test)))\n",
    "\n",
    "toc = time.perf_counter()\n",
    "print(f\"Time taken: {toc-tic:.3f} seconds\")"
   ]
  }
 ],
 "metadata": {
  "kernelspec": {
   "display_name": "Python 3",
   "language": "python",
   "name": "python3"
  },
  "language_info": {
   "codemirror_mode": {
    "name": "ipython",
    "version": 3
   },
   "file_extension": ".py",
   "mimetype": "text/x-python",
   "name": "python",
   "nbconvert_exporter": "python",
   "pygments_lexer": "ipython3",
   "version": "3.6.8"
  }
 },
 "nbformat": 4,
 "nbformat_minor": 5
}
